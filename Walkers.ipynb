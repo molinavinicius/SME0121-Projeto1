{
 "cells": [
  {
   "cell_type": "code",
   "execution_count": 10,
   "metadata": {},
   "outputs": [],
   "source": [
    "%matplotlib inline\n",
    "import numpy as np\n",
    "import random\n",
    "import matplotlib.pyplot as plt\n",
    "\n",
    "Nmax = 3000"
   ]
  },
  {
   "cell_type": "code",
   "execution_count": 11,
   "metadata": {},
   "outputs": [],
   "source": [
    "def caminha(state, matriz):\n",
    "    nextstate = state\n",
    "    rand = np.random.uniform()\n",
    "    \n",
    "    aux = 0\n",
    "    for i in range(5):\n",
    "        aux = aux + matriz[state][i]\n",
    "        if(matriz[state][i]!=0):\n",
    "            if(rand<aux):\n",
    "                nextstate = i\n",
    "                break\n",
    "            else:\n",
    "                continue\n",
    "    return nextstate"
   ]
  },
  {
   "cell_type": "code",
   "execution_count": 12,
   "metadata": {},
   "outputs": [],
   "source": [
    "p = np.array([[0,1/2,0,1/6,1/3],\n",
    "              [1,0,0,0,0],\n",
    "              [0,0,0,0,1],\n",
    "              [1/5,0,0,0,4/5],\n",
    "              [1/6,0,1/2,1/3,0]])\n"
   ]
  },
  {
   "cell_type": "code",
   "execution_count": 40,
   "metadata": {},
   "outputs": [
    {
     "name": "stdout",
     "output_type": "stream",
     "text": [
      "[0.18771455555555555, 0.09396611111111111, 0.18744155555555556, 0.156091, 0.3747867777777778]\n"
     ]
    }
   ],
   "source": [
    "state = 0\n",
    "visits = [0,0,0,0,0]\n",
    "Nmax = 9000000\n",
    "\n",
    "for i in range(Nmax):\n",
    "    state = caminha(state,p)\n",
    "    visits[state] = visits[state]+1\n",
    "\n",
    "print([v/Nmax for v in visits])\n"
   ]
  },
  {
   "cell_type": "code",
   "execution_count": 61,
   "metadata": {},
   "outputs": [
    {
     "name": "stdout",
     "output_type": "stream",
     "text": [
      "[0.18771455555555555, 0.09396611111111111, 0.18744155555555556, 0.156091, 0.3747867777777778]\n",
      "[0.1875, 0.09375, 0.1875, 0.15625, 0.375]\n",
      "0.00021\n",
      "0.00022\n",
      "-0.00006\n",
      "-0.00016\n",
      "-0.00021\n"
     ]
    }
   ],
   "source": [
    "est = [v/Nmax for v in visits]\n",
    "teo = [3/16,3/32,3/16,5/32,3/8]\n",
    "\n",
    "print(est)\n",
    "print(teo)\n",
    "\n",
    "for i in range(5):\n",
    "    print(\"{:.5f}\".format(est[i] - teo[i]))"
   ]
  },
  {
   "cell_type": "code",
   "execution_count": 72,
   "metadata": {},
   "outputs": [
    {
     "data": {
      "text/plain": [
       "array([[0.1875 , 0.09375, 0.1875 , 0.15625, 0.375  ],\n",
       "       [0.1875 , 0.09375, 0.1875 , 0.15625, 0.375  ],\n",
       "       [0.1875 , 0.09375, 0.1875 , 0.15625, 0.375  ],\n",
       "       [0.1875 , 0.09375, 0.1875 , 0.15625, 0.375  ],\n",
       "       [0.1875 , 0.09375, 0.1875 , 0.15625, 0.375  ]])"
      ]
     },
     "execution_count": 72,
     "metadata": {},
     "output_type": "execute_result"
    }
   ],
   "source": [
    "np.linalg.matrix_power(p,50000000)"
   ]
  }
 ],
 "metadata": {
  "kernelspec": {
   "display_name": "Python 3",
   "language": "python",
   "name": "python3"
  },
  "language_info": {
   "codemirror_mode": {
    "name": "ipython",
    "version": 3
   },
   "file_extension": ".py",
   "mimetype": "text/x-python",
   "name": "python",
   "nbconvert_exporter": "python",
   "pygments_lexer": "ipython3",
   "version": "3.8.3"
  }
 },
 "nbformat": 4,
 "nbformat_minor": 4
}
